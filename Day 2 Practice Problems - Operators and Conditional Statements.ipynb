{
 "cells": [
  {
   "cell_type": "markdown",
   "metadata": {},
   "source": [
    "# Practice Problems for Operators & Conditional statements\n",
    "\n",
    "\n",
    "## 1. Take values of length and breadth of a rectangle from user and check if it is square or not. Return area."
   ]
  },
  {
   "cell_type": "code",
   "execution_count": 3,
   "metadata": {},
   "outputs": [
    {
     "name": "stdout",
     "output_type": "stream",
     "text": [
      "Enter the value of length:5\n",
      "Enter the value of breadth:5\n",
      "Area: 25\n",
      "It is Square\n"
     ]
    }
   ],
   "source": [
    "length = int(input(\"Enter the value of length:\"))\n",
    "breadth = int(input(\"Enter the value of breadth:\"))\n",
    "\n",
    "if length == breadth:\n",
    "    print(\"Area:\", (length * breadth))\n",
    "    print(\"It is Square\")\n",
    "else:\n",
    "    print(\"It is not Square\")"
   ]
  },
  {
   "cell_type": "markdown",
   "metadata": {},
   "source": [
    "## 2. Write a Python program which accepts the radius of a circle from the user and compute the area."
   ]
  },
  {
   "cell_type": "code",
   "execution_count": 4,
   "metadata": {},
   "outputs": [
    {
     "name": "stdout",
     "output_type": "stream",
     "text": [
      "Enter the value of radius:5\n",
      "Area of the circle: 78.5398\n"
     ]
    }
   ],
   "source": [
    "rad = float(input(\"Enter the value of radius:\"))\n",
    "pi = 3.141592\n",
    "\n",
    "Area = pi * (rad**2)\n",
    "\n",
    "print(\"Area of the circle:\",Area)"
   ]
  },
  {
   "cell_type": "markdown",
   "metadata": {},
   "source": [
    "## 3. Write a Python program that accepts an integer (n) and computes the value of n+nn+nnn."
   ]
  },
  {
   "cell_type": "code",
   "execution_count": 6,
   "metadata": {},
   "outputs": [
    {
     "name": "stdout",
     "output_type": "stream",
     "text": [
      "Enter the value of n:5\n",
      "Computed value of n+nn+nnn: 615\n"
     ]
    }
   ],
   "source": [
    "n = int(input(\"Enter the value of n:\"))\n",
    "value = n * (1 + 11 + 111)\n",
    "print(\"Computed value of n+nn+nnn:\", value)"
   ]
  },
  {
   "cell_type": "markdown",
   "metadata": {},
   "source": [
    "## 4. A company decided to deduct pf of 12% of salary if year of service is less than 5 year and 24% employee if his/her year of service is more than 5 years. Ask user for their salary and year of service and print the net in-hand salary after pf deduction."
   ]
  },
  {
   "cell_type": "code",
   "execution_count": 7,
   "metadata": {},
   "outputs": [
    {
     "name": "stdout",
     "output_type": "stream",
     "text": [
      "Enter your Salary:1000\n",
      "Enter your work experience:5\n",
      "NetSalary after pf deduction: 760.0\n"
     ]
    }
   ],
   "source": [
    "sal = int(input(\"Enter your Salary:\"))\n",
    "exp = int(input(\"Enter your work experience:\"))\n",
    "\n",
    "if exp < 5:\n",
    "    pf_percent = 12\n",
    "else:\n",
    "    pf_percent = 24\n",
    "    \n",
    "net_sal = sal * ( 1 - pf_percent / 100)\n",
    "\n",
    "print(\"NetSalary after pf deduction:\", net_sal)"
   ]
  },
  {
   "cell_type": "markdown",
   "metadata": {},
   "source": [
    "## 5. A school has following rules for grading system\n",
    "    a. Below 40 - F\n",
    "    b. 40 to 50 - C\n",
    "    c. 50 to 60 - C+\n",
    "    d. 60 to 70 - B\n",
    "    e. 70 to 80 - B+\n",
    "    f. 80 to 90 - A\n",
    "    g. Above 90 - A+\n",
    "\n",
    "## Ask user to enter marks for their 5 main subject and print the corresponding grade and overall grade for average of marks."
   ]
  },
  {
   "cell_type": "code",
   "execution_count": 9,
   "metadata": {},
   "outputs": [
    {
     "name": "stdout",
     "output_type": "stream",
     "text": [
      "Enter marks in first subject:45\n",
      "Enter marks in second subject:62\n",
      "Enter marks in third subject:34\n",
      "Enter marks in fourth subject:87\n",
      "Enter marks in fifth subject:73\n",
      "Total Percentage 60.199999999999996\n",
      "C\n",
      "B\n",
      "F\n",
      "A\n",
      "B+\n",
      "Overall grade is 'B'\n"
     ]
    }
   ],
   "source": [
    "sub1 = int(input(\"Enter marks in first subject:\"))\n",
    "sub2 = int(input(\"Enter marks in second subject:\"))\n",
    "sub3 = int(input(\"Enter marks in third subject:\"))\n",
    "sub4 = int(input(\"Enter marks in fourth subject:\"))\n",
    "sub5 = int(input(\"Enter marks in fifth subject:\"))\n",
    "\n",
    "marks = [sub1,sub2,sub3,sub4,sub5]\n",
    "\n",
    "total = ((sub1+sub2+sub3+sub4+sub5) / 500) * 100\n",
    "print(\"Total Percentage\",total)\n",
    "\n",
    "for m in marks:\n",
    "    if m < 40:\n",
    "        print(\"F\")\n",
    "    elif m >=40 and m <50:\n",
    "        print(\"C\")\n",
    "    elif m >=50 and m <60:\n",
    "        print(\"C+\")\n",
    "    elif m >=60 and m <70:\n",
    "        print(\"B\")\n",
    "    elif m >=70 and m <80:\n",
    "        print(\"B+\")\n",
    "    elif m >=80 and m <90:\n",
    "        print(\"A\")\n",
    "    else:\n",
    "        print(\"A+\")\n",
    "\n",
    "if total < 40:\n",
    "    print(\"Overall grade is 'F'\")\n",
    "    \n",
    "elif total >=40 and total <50:\n",
    "    print(\"Overall grade is 'C'\")\n",
    "\n",
    "elif total >=50 and total <60:\n",
    "    print(\"Overall grade is 'C+'\")\n",
    "elif total >=60 and total <70:\n",
    "    print(\"Overall grade is 'B'\")\n",
    "elif total >=70 and total <80:\n",
    "    print(\"Overall grade is 'B+'\")\n",
    "elif total >=80 and total <90:\n",
    "    print(\"Overall grade is 'A'\")\n",
    "else:\n",
    "    print(\"Overall grade is 'A+'\")"
   ]
  },
  {
   "cell_type": "markdown",
   "metadata": {},
   "source": [
    "## 6. A student will not be allowed to sit in exam if his/her attendence is less than 75%.\n",
    "\n",
    "    Take following input from user\n",
    "    Number of classes held\n",
    "    Number of classes attended.\n",
    "\n",
    "    And print\n",
    "    percentage of class attended\n",
    "    Is student is allowed to sit in exam or not."
   ]
  },
  {
   "cell_type": "code",
   "execution_count": 13,
   "metadata": {},
   "outputs": [
    {
     "name": "stdout",
     "output_type": "stream",
     "text": [
      "Enter total number of classes held:127\n",
      "Enter number of classes attended:88\n",
      "print percentage of class attended is: 69.29133858267717 %\n",
      "Student is not allowed to sit in exam\n"
     ]
    }
   ],
   "source": [
    "total_class = int(input(\"Enter total number of classes held:\"))\n",
    "classes_attended = int(input(\"Enter number of classes attended:\"))\n",
    "\n",
    "attendence_per = ((classes_attended / total_class) * 100)\n",
    "\n",
    "print(\"print percentage of class attended is:\",attendence_per,\"%\")\n",
    "\n",
    "if attendence_per < 75:\n",
    "    print(\"Student is not allowed to sit in exam\")\n",
    "else :\n",
    "    print(\"Student is allowed to sit in exam\")"
   ]
  },
  {
   "cell_type": "markdown",
   "metadata": {},
   "source": [
    "## 7. Modify the above question to allow student to sit if he/she has medical cause reduce attendance criteria to 60%. Ask user if he/she has medical cause or not ( 'Y' or 'N' ) and print accordingly."
   ]
  },
  {
   "cell_type": "code",
   "execution_count": 14,
   "metadata": {},
   "outputs": [
    {
     "name": "stdout",
     "output_type": "stream",
     "text": [
      "Enter total number of classes held:127\n",
      "Enter number of classes attended:88\n",
      "Ask user has medical cause:Y\n",
      "print percentage of class attended is: 69.29133858267717\n",
      "Student is allowed to sit in exam\n",
      "Student has medical reason and excuse to sit in exam\n"
     ]
    }
   ],
   "source": [
    "total_class = int(input(\"Enter total number of classes held:\"))\n",
    "classes_attended = int(input(\"Enter number of classes attended:\"))\n",
    "\n",
    "medical_cause = input(\"Ask user has medical cause:\")\n",
    "\n",
    "attendence_per = ((classes_attended / total_class) * 100)\n",
    "\n",
    "print(\"print percentage of class attended is:\",attendence_per)\n",
    "\n",
    "if ((attendence_per) < 75 and (medical_cause == 'N')):\n",
    "    \n",
    "    print(\"Student is not allowed to sit in exam\")\n",
    "    \n",
    "elif ((attendence_per) >= 60 and (medical_cause == 'Y')):\n",
    "    \n",
    "    print(\"Student is allowed to sit in exam\")\n",
    "    \n",
    "    print(\"Student has medical reason and excuse to sit in exam\")\n",
    "    \n",
    "else:\n",
    "    \n",
    "    print(\"Student is allowed to sit in exam\")"
   ]
  },
  {
   "cell_type": "markdown",
   "metadata": {},
   "source": [
    "## 8. Write a program to check if a year is leap year or not.If a year is divisible by 4 then it is leap year but if the year is century year like 2000, 1900, 2100 then it must be divisible by 400."
   ]
  },
  {
   "cell_type": "code",
   "execution_count": 17,
   "metadata": {},
   "outputs": [
    {
     "name": "stdout",
     "output_type": "stream",
     "text": [
      "Enter Year:2000\n",
      "The given year is leap year 2000\n"
     ]
    }
   ],
   "source": [
    "year = int(input(\"Enter Year:\"))\n",
    "\n",
    "if ((year % 4) == 0):\n",
    "    \n",
    "    if((year % 100) == 0):\n",
    "        \n",
    "        if((year % 400) == 0):\n",
    "            \n",
    "            print(\"The given year is leap year\",year)\n",
    "            \n",
    "        else:\n",
    "            \n",
    "            print(\"The given year is not a leap year\",year)\n",
    "            \n",
    "    else:\n",
    "        \n",
    "        print(\"The given year is leap year\",year)\n",
    "        \n",
    "else:\n",
    "    \n",
    "    print(\"The given year is not a leap year\",year)"
   ]
  },
  {
   "cell_type": "markdown",
   "metadata": {},
   "source": [
    "## 9. Ask user to enter age, gender ( M or F ), marital status ( Y or N ) and then using following rules print their place of service.\n",
    "\n",
    "    if employee is female, then she will work only in urban areas.\n",
    "\n",
    "    if employee is a male and age is in between 20 to 30 and not married then he may work in anywhere.\n",
    "\n",
    "    if employee is a female and age is in between 20 to 30 and not married then she may work in urban areas.\n",
    "\n",
    "    if employee is male and age is in between 20 t0 30 and married then he will work in nearby Hometown.\n",
    "\n",
    "    if employee is female and age is in between 20 t0 30 and married then she will work in her husband's city.\n",
    "\n",
    "    And any other input of age should print \"ERROR\"."
   ]
  },
  {
   "cell_type": "code",
   "execution_count": 18,
   "metadata": {},
   "outputs": [
    {
     "name": "stdout",
     "output_type": "stream",
     "text": [
      "Enter your age:25\n",
      "Enter your gender:M\n",
      "Enter marital_status:N\n",
      "He may work in anywhere\n"
     ]
    }
   ],
   "source": [
    "age = int(input(\"Enter your age:\"))\n",
    "gender = input(\"Enter your gender:\")\n",
    "\n",
    "marital_status = input(\"Enter marital_status:\")\n",
    "\n",
    "if ((((age >=20) & (age <=30)) & (gender == 'M')) & (marital_status == 'N')):\n",
    "    print(\"He may work in anywhere\")\n",
    "elif ((((age >=20) & (age <=30)) & (gender == 'F')) & (marital_status == 'N')):\n",
    "    print(\"She may work in urban areas.\")\n",
    "elif ((((age >=20) & (age <=30)) & (gender == 'M')) & (marital_status == 'Y')):\n",
    "    print(\"He will work in nearby Hometown.\")\n",
    "elif ((((age >=20) & (age <=30)) & (gender == 'F')) & (marital_status == 'Y')):\n",
    "    print(\"She will work in her husband's city.\")\n",
    "else:\n",
    "    print(\"ERROR\")"
   ]
  },
  {
   "cell_type": "markdown",
   "metadata": {},
   "source": [
    "## 10. A 4 digit number is entered through keyboard. Write a program to print a new number with digits reversed as of orignal one. E.g.-\n",
    "\n",
    "    INPUT : 1234        OUTPUT : 4321\n",
    "    INPUT : 5982        OUTPUT : 2895\n",
    "    NOTE:- Do not use builtin functions e.g. sort(), reverse() and loop try to solve it by if-else"
   ]
  },
  {
   "cell_type": "code",
   "execution_count": 22,
   "metadata": {},
   "outputs": [
    {
     "name": "stdout",
     "output_type": "stream",
     "text": [
      "Enter 4 digit number:1234\n",
      "Reverse:  4321\n"
     ]
    }
   ],
   "source": [
    "number = int(input(\"Enter 4 digit number:\"))\n",
    "reverse = 0\n",
    "if(number < 0):\n",
    "    print(\"Number is invalid\")\n",
    "else:\n",
    "    if(number):\n",
    "        last_digit = number % 10\n",
    "        reverse = reverse * 10 + last_digit\n",
    "        number = number // 10\n",
    "    \n",
    "    if(number):\n",
    "        last_digit = number % 10\n",
    "        reverse = reverse * 10 + last_digit\n",
    "        number = number // 10\n",
    "        \n",
    "    if(number):\n",
    "        last_digit = number % 10\n",
    "        reverse = reverse * 10 + last_digit\n",
    "        number = number // 10\n",
    "    \n",
    "    if(number):\n",
    "        last_digit = number % 10\n",
    "        reverse = reverse * 10 + last_digit\n",
    "        number = number // 10\n",
    "\n",
    "print(\"Reverse: \", reverse);"
   ]
  },
  {
   "cell_type": "markdown",
   "metadata": {},
   "source": [
    "## 11. Write a program to find sum of digits of given number by user answer should be of single digit.\n",
    "    Example: input: 25643\n",
    "    sum of digits of 2+5+6+4+3 = 20\n",
    "    again find sum of digits of 20 and final answer would be 2+0 = 2"
   ]
  },
  {
   "cell_type": "code",
   "execution_count": 25,
   "metadata": {},
   "outputs": [
    {
     "name": "stdout",
     "output_type": "stream",
     "text": [
      "Enter number:25643\n",
      "20\n",
      "2\n"
     ]
    }
   ],
   "source": [
    "n = str(input(\"Enter number:\"))\n",
    "m=0\n",
    "sum = 0\n",
    "for j in n:\n",
    "    p = int(j) + m\n",
    "    sum = sum + p\n",
    "    \n",
    "\n",
    "    b = str(sum)\n",
    "    c = 0\n",
    "    sum1 = 0\n",
    "    for y in b:\n",
    "        z = int(y) + c\n",
    "        sum1 = sum1 + z\n",
    "print(sum)\n",
    "print(sum1)"
   ]
  },
  {
   "cell_type": "markdown",
   "metadata": {},
   "source": [
    "## 12. Write a Python program to find those numbers which are divisible by 7 and multiple of 5, between 1500 and 2700 (both included)."
   ]
  },
  {
   "cell_type": "code",
   "execution_count": 27,
   "metadata": {},
   "outputs": [
    {
     "name": "stdout",
     "output_type": "stream",
     "text": [
      "1505\n",
      "1540\n",
      "1575\n",
      "1610\n",
      "1645\n",
      "1680\n",
      "1715\n",
      "1750\n",
      "1785\n",
      "1820\n",
      "1855\n",
      "1890\n",
      "1925\n",
      "1960\n",
      "1995\n",
      "2030\n",
      "2065\n",
      "2100\n",
      "2135\n",
      "2170\n",
      "2205\n",
      "2240\n",
      "2275\n",
      "2310\n",
      "2345\n",
      "2380\n",
      "2415\n",
      "2450\n",
      "2485\n",
      "2520\n",
      "2555\n",
      "2590\n",
      "2625\n",
      "2660\n",
      "2695\n"
     ]
    }
   ],
   "source": [
    "for n in range(1500, 2701):\n",
    "    \n",
    "    if (n%7==0) and (n%5==0):\n",
    "        \n",
    "        print(n)"
   ]
  }
 ],
 "metadata": {
  "kernelspec": {
   "display_name": "Python 3",
   "language": "python",
   "name": "python3"
  },
  "language_info": {
   "codemirror_mode": {
    "name": "ipython",
    "version": 3
   },
   "file_extension": ".py",
   "mimetype": "text/x-python",
   "name": "python",
   "nbconvert_exporter": "python",
   "pygments_lexer": "ipython3",
   "version": "3.7.6"
  }
 },
 "nbformat": 4,
 "nbformat_minor": 4
}
