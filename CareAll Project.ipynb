{
 "cells": [
  {
   "cell_type": "code",
   "execution_count": null,
   "metadata": {},
   "outputs": [],
   "source": [
    "class User:\n",
    "    def __init__(self,name,age,gender):\n",
    "        self.name = name\n",
    "        self.age = age\n",
    "        self.gender = gender\n",
    "        self.status = True\n",
    "    \n",
    "    def get_status(self):\n",
    "        return self.status\n",
    "    \n",
    "    def set_status(self,new_status):\n",
    "        self.status = status\n",
    "        \n",
    "    def set_ratings(self,new_ratings):\n",
    "        self.ratings = new_ratings\n",
    "        \n",
    "    def get_ratings(self):\n",
    "        return self.ratings\n",
    "    \n",
    "    def set_review(self,new_review):\n",
    "        self.review = new_review\n",
    "        \n",
    "    def get_review(self):\n",
    "        return self.review"
   ]
  },
  {
   "cell_type": "code",
   "execution_count": null,
   "metadata": {},
   "outputs": [],
   "source": [
    "class Younger(User):\n",
    "    younger_list = []\n",
    "    \n",
    "    @classmethod\n",
    "    def add_younger(cls,obj):\n",
    "        cls.younger_list.append(obj)\n",
    "    \n",
    "    def __init__(self,name,age,gender):\n",
    "        super().__init__(name,age,gender)\n",
    "        self.userlist1 = []\n",
    "        self.userlist2 = []\n",
    "        self.total_user = 0\n",
    "        Younger.add_younger(self)\n",
    "        \n",
    "    def add_elder(self,name):\n",
    "        if len(self.userlist1) < 4:\n",
    "            self.userlist1.append(name)\n",
    "            return True\n",
    "        else:\n",
    "            return False\n",
    "        \n",
    "    def get_care_userlist(self):\n",
    "        for elder in self.userlist1:\n",
    "            print(elder.name)\n",
    "        \n",
    "    def earning(self):\n",
    "        total = 0\n",
    "        for i in self.userlist1:\n",
    "            total += i.get_money()\n",
    "        return total\n",
    "    \n",
    "    def care_user_no(self):\n",
    "        return len(self.userlist2)\n",
    "    \n",
    "    def select_user(self,userlist1):\n",
    "        for j in userlist1:\n",
    "            if j.status:\n",
    "                print(\"If you want to take care of {} named {} aged {}\".format(j.gender,j.name,j.age))\n",
    "                p = input(\"Press YES / NO\")\n",
    "                if p == 'YES':\n",
    "                    self.userlist2.append(j)\n",
    "                elif p == 'NO':\n",
    "                    pass\n",
    "                else:\n",
    "                    return self.select_user(userlist1)"
   ]
  },
  {
   "cell_type": "code",
   "execution_count": null,
   "metadata": {},
   "outputs": [],
   "source": [
    "class Elder(User):\n",
    "    \n",
    "    elder_list = []\n",
    "    \n",
    "    @classmethod\n",
    "    def add_elder_people(cls,obj):\n",
    "        cls.elder_list.append(obj)\n",
    "    \n",
    "    def __init__(self,name,age,gender):\n",
    "        super().__init__(name,age,gender)\n",
    "        Elder.add_elder_people(self)\n",
    "        \n",
    "    def set_money(self,price):\n",
    "        self.price = price\n",
    "        \n",
    "    def get_money(self):\n",
    "        return self.price\n",
    "    \n",
    "    def permission(self,younger):\n",
    "        if self.status:\n",
    "            print(\"If you want to be taken care by {} named{} aged{}\".format(younger.gender,younger.name,younger.age))\n",
    "            q = input(\"Press YES / NO\")\n",
    "            if q == 'YES':\n",
    "                self.set_status = False\n",
    "                return True\n",
    "            elif q == 'NO':\n",
    "                pass\n",
    "            else:\n",
    "                return self.permission(younger_list)\n",
    "            \n",
    "    def Care_by_user(self):\n",
    "        return log.get(self.name,-1)\n",
    "    "
   ]
  },
  {
   "cell_type": "code",
   "execution_count": null,
   "metadata": {},
   "outputs": [],
   "source": [
    "E1 = Elder('Rajesh',62,'Male')\n",
    "E2 = Elder('Surendra',74,'Male')\n",
    "E3 = Elder('Sunita',66,'Female')\n",
    "E4 = Elder('Ajay',69,'Male')\n",
    "E5 = Elder('Aparna',65,'Female')\n",
    "E6 = Elder('Mahesh',75,'Male')\n",
    "E7 = Elder('Sujit',68,'Male')\n",
    "E8 = Elder('Manorama',71,'Female')\n",
    "Y1 = Younger('Bishwash',23,'Male')\n",
    "Y2 = Younger('Anusha',22,'Female')\n",
    "\n",
    "log = {}\n",
    "\n",
    "for younger in Younger.younger_list:\n",
    "    if younger.status:\n",
    "        younger.select_user(Elder.elder_list)\n",
    "        for elder in younger.userlist2:\n",
    "            if (elder.permission(younger)):\n",
    "                final = younger.add_elder(elder)\n",
    "                if final:\n",
    "                    print(\"{} is taking care of {} ,{}\".format(younger.name,elder.name,elder.age))\n",
    "                    log.setdefault(elder.name,younger.name)\n",
    "                else:\n",
    "                    print(\"{} cannot take care more elders\".format(younger.name))\n",
    "                    younger.set_status = False\n",
    "                    elder.set_status = True                  "
   ]
  },
  {
   "cell_type": "code",
   "execution_count": null,
   "metadata": {},
   "outputs": [],
   "source": [
    "print(log)"
   ]
  },
  {
   "cell_type": "code",
   "execution_count": null,
   "metadata": {},
   "outputs": [],
   "source": [
    "E1.Care_by_user()"
   ]
  },
  {
   "cell_type": "code",
   "execution_count": null,
   "metadata": {},
   "outputs": [],
   "source": [
    "E5.set_ratings('*****(5 star)')\n",
    "\n",
    "print(E5.get_ratings())"
   ]
  },
  {
   "cell_type": "code",
   "execution_count": null,
   "metadata": {},
   "outputs": [],
   "source": [
    "Y1.get_care_userlist()"
   ]
  },
  {
   "cell_type": "code",
   "execution_count": null,
   "metadata": {},
   "outputs": [],
   "source": [
    "Y1.care_user_no()"
   ]
  },
  {
   "cell_type": "code",
   "execution_count": null,
   "metadata": {},
   "outputs": [],
   "source": [
    "E1.set_money(25000)\n",
    "E2.set_money(15000)\n",
    "E3.set_money(20000)\n",
    "E4.set_money(30000)\n",
    "E5.set_money(10000)\n",
    "E6.set_money(12000)\n"
   ]
  },
  {
   "cell_type": "code",
   "execution_count": null,
   "metadata": {},
   "outputs": [],
   "source": [
    "print(E1.get_money())\n",
    "print(E2.get_money())\n",
    "print(E3.get_money())\n",
    "print(E4.get_money())\n",
    "print(E5.get_money())\n",
    "print(E6.get_money())"
   ]
  },
  {
   "cell_type": "code",
   "execution_count": null,
   "metadata": {},
   "outputs": [],
   "source": [
    "print(Y1.earning())"
   ]
  },
  {
   "cell_type": "code",
   "execution_count": null,
   "metadata": {},
   "outputs": [],
   "source": [
    "Y1.set_review('Bishwash is very caring and responsible person. Loved to be with him')\n",
    "\n",
    "Y1.get_review()"
   ]
  }
 ],
 "metadata": {
  "kernelspec": {
   "display_name": "Python 3",
   "language": "python",
   "name": "python3"
  },
  "language_info": {
   "codemirror_mode": {
    "name": "ipython",
    "version": 3
   },
   "file_extension": ".py",
   "mimetype": "text/x-python",
   "name": "python",
   "nbconvert_exporter": "python",
   "pygments_lexer": "ipython3",
   "version": "3.7.6"
  }
 },
 "nbformat": 4,
 "nbformat_minor": 4
}
