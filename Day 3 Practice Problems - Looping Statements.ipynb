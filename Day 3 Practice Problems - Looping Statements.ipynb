{
 "cells": [
  {
   "cell_type": "markdown",
   "metadata": {},
   "source": [
    "## Find the second maximum value."
   ]
  },
  {
   "cell_type": "code",
   "execution_count": 16,
   "metadata": {},
   "outputs": [
    {
     "name": "stdout",
     "output_type": "stream",
     "text": [
      "First Maximum Number: 150\n",
      "Second Maximum Number 100\n"
     ]
    }
   ],
   "source": [
    "n = [100,45,12,74,90,150,4,2,1]\n",
    "\n",
    "maximum1 = 0\n",
    "maximum2 = 0\n",
    "\n",
    "for no in n:\n",
    "    if no > maximum1 and no > maximum2:\n",
    "        maximum2 = maximum1\n",
    "        maximum1 = no\n",
    "    elif no < maximum1 and no > maximum2:\n",
    "        maximum2 = no\n",
    "\n",
    "print(\"First Maximum Number:\",maximum1)\n",
    "print(\"Second Maximum Number\",maximum2)\n",
    "    "
   ]
  },
  {
   "cell_type": "markdown",
   "metadata": {},
   "source": [
    "## Tables From 1 to 5"
   ]
  },
  {
   "cell_type": "code",
   "execution_count": 14,
   "metadata": {},
   "outputs": [
    {
     "name": "stdout",
     "output_type": "stream",
     "text": [
      "1\t2\t3\t4\t5\t\n",
      "2\t4\t6\t8\t10\t\n",
      "3\t6\t9\t12\t15\t\n",
      "4\t8\t12\t16\t20\t\n",
      "5\t10\t15\t20\t25\t\n",
      "6\t12\t18\t24\t30\t\n",
      "7\t14\t21\t28\t35\t\n",
      "8\t16\t24\t32\t40\t\n",
      "9\t18\t27\t36\t45\t\n",
      "10\t20\t30\t40\t50\t\n"
     ]
    }
   ],
   "source": [
    "for n in range(1,11):\n",
    "    for no in range(1,6):\n",
    "        table = no * n\n",
    "        print(table, end = \"\\t\")\n",
    "    print(end = \"\\n\")   "
   ]
  }
 ],
 "metadata": {
  "kernelspec": {
   "display_name": "Python 3",
   "language": "python",
   "name": "python3"
  },
  "language_info": {
   "codemirror_mode": {
    "name": "ipython",
    "version": 3
   },
   "file_extension": ".py",
   "mimetype": "text/x-python",
   "name": "python",
   "nbconvert_exporter": "python",
   "pygments_lexer": "ipython3",
   "version": "3.7.6"
  }
 },
 "nbformat": 4,
 "nbformat_minor": 4
}
