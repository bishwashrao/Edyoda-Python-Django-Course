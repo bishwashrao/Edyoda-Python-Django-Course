{
 "cells": [
  {
   "cell_type": "code",
   "execution_count": 7,
   "metadata": {},
   "outputs": [
    {
     "name": "stdout",
     "output_type": "stream",
     "text": [
      "zeke\n"
     ]
    }
   ],
   "source": [
    "def question_first_solution(input_seq,test):\n",
    "    out_str = ''\n",
    "    for i in range(len(test)):\n",
    "        key = test[i]\n",
    "        count = 0\n",
    "        if test[i] == test[i-1]:\n",
    "            continue\n",
    "        for j in range(len(test)):\n",
    "            if j>=i and (j-i) < 4 and test[j] == test[i]:\n",
    "                count += 1\n",
    "    #     print(key)\n",
    "    #     print(count-1)\n",
    "    #     print(num_dict[int(key)][count-1])\n",
    "        out_str = out_str + input_seq[int(key)][count-1]\n",
    "    print(out_str)  \n",
    "    \n",
    "test = '9999335533'\n",
    "\n",
    "input_seq = {2 : ['a', 'b', 'c'], \n",
    "            3 : ['d', 'e', 'f'],\n",
    "            4 : ['g', 'h', 'i'],\n",
    "            5 : ['j', 'k', 'l'],\n",
    "            6 : ['m', 'n', 'o'],\n",
    "            7 : ['p', 'q', 'r', 's'],\n",
    "            8 : ['t', 'u', 'v'],\n",
    "            9 : ['w', 'x', 'y', 'z']}  \n",
    "\n",
    "question_first_solution(input_seq,test)"
   ]
  },
  {
   "cell_type": "code",
   "execution_count": 10,
   "metadata": {},
   "outputs": [
    {
     "name": "stdout",
     "output_type": "stream",
     "text": [
      "Travel Sequence : {'Bombay': 'Delhi', 'Delhi': 'Goa', 'Goa': 'Chennai', 'Chennai': 'Banglore'}\n"
     ]
    }
   ],
   "source": [
    "def question_second_solution(tickets):\n",
    "    seq = {}\n",
    "    sources = set(tickets.keys())\n",
    "    destinations = set(tickets.values())\n",
    "    \n",
    "    source = list(sources.difference(destinations))[0]\n",
    "    \n",
    "    for count in range(len(tickets)):\n",
    "        seq[source] = tickets[source]\n",
    "        source = tickets[source]\n",
    "    return seq\n",
    "\n",
    "tickets = {\"Chennai\":\"Banglore\",\"Bombay\":\"Delhi\",\"Goa\":\"Chennai\",\"Delhi\":\"Goa\"}\n",
    "print(\"Travel Sequence :\",question_second_solution(tickets))"
   ]
  },
  {
   "cell_type": "code",
   "execution_count": 11,
   "metadata": {},
   "outputs": [
    {
     "name": "stdout",
     "output_type": "stream",
     "text": [
      "Output : {'Concord': ['New Hampshire', 'Massachusetts'], 'Hanover': ['New Hampshire'], 'Boston': ['Massachusetts'], 'Springfield': ['Massachusetts', 'Illinois'], 'Chicago': ['Illinois'], 'Peoria': ['Illinois']}\n"
     ]
    }
   ],
   "source": [
    "def question_third_solution(states):\n",
    "    cities = {}\n",
    "    \n",
    "    for state,cities1 in states.items():\n",
    "        for city in cities1:\n",
    "            if city not in cities:\n",
    "                cities[city] = [state]\n",
    "            else:\n",
    "                cities[city].append(state)\n",
    "    return cities\n",
    "\n",
    "states = {'New Hampshire': ['Concord', 'Hanover'],'Massachusetts': ['Boston', 'Concord', 'Springfield'],'Illinois': ['Chicago', 'Springfield', 'Peoria'] }\n",
    "print(\"Output :\",question_third_solution(states))"
   ]
  },
  {
   "cell_type": "code",
   "execution_count": 14,
   "metadata": {},
   "outputs": [
    {
     "ename": "SyntaxError",
     "evalue": "EOL while scanning string literal (<ipython-input-14-99cbcc600e7f>, line 14)",
     "output_type": "error",
     "traceback": [
      "\u001b[1;36m  File \u001b[1;32m\"<ipython-input-14-99cbcc600e7f>\"\u001b[1;36m, line \u001b[1;32m14\u001b[0m\n\u001b[1;33m    brackets = 'def question_fifth_solution(number):\u001b[0m\n\u001b[1;37m                                                    ^\u001b[0m\n\u001b[1;31mSyntaxError\u001b[0m\u001b[1;31m:\u001b[0m EOL while scanning string literal\n"
     ]
    }
   ],
   "source": [
    "def question_fourth_solution(brackets):\n",
    "    bracket_seq = {\"(\": \")\", \"[\": \"]\",  \"{\": \"}\"}\n",
    "    brackets1 = ['(','[','{']\n",
    "    a = []\n",
    "    for i in brackets:\n",
    "        if i in brackets1:\n",
    "            a.append(i)\n",
    "        elif a and i == bracket_seq[a[-1]]:\n",
    "                a.pop()\n",
    "        else:\n",
    "            return False\n",
    "    return a == []\n",
    "\n",
    "brackets = 'def question_fifth_solution(number):\n",
    "    roman = {1: 'I', 4: 'IV', 5:'V', 9: 'IX',\n",
    "    10: 'X', 40: 'XL', 50: 'L', 90:'XC',\n",
    "    100: 'C', 400:'CD', 500: 'D', 900:'CM',\n",
    "    1000:'M'\n",
    "    }\n",
    "    \n",
    "    highest_decimal = sorted(roman.keys(),reverse= True)\n",
    "    print(highest_decimal)\n",
    "    if number>=4000:\n",
    "        return False\n",
    "    r='' \n",
    "    \n",
    "    index = 0\n",
    "    while number:\n",
    "        div = number // highest_decimal[index]\n",
    "        number %= highest_decimal[index]\n",
    "        while div: \n",
    "            r+=roman[highest_decimal[index]]\n",
    "            div -= 1\n",
    "        index += 1\n",
    "    return r\n",
    "\n",
    "number=100\n",
    "print(question_fifth_solution(number))'\n",
    "print(question_fourth_solution(brackets))"
   ]
  },
  {
   "cell_type": "code",
   "execution_count": 15,
   "metadata": {},
   "outputs": [
    {
     "name": "stdout",
     "output_type": "stream",
     "text": [
      "[1000, 900, 500, 400, 100, 90, 50, 40, 10, 9, 5, 4, 1]\n",
      "C\n"
     ]
    }
   ],
   "source": [
    "def question_fifth_solution(number):\n",
    "    roman = {1: 'I', 4: 'IV', 5:'V', 9: 'IX',\n",
    "    10: 'X', 40: 'XL', 50: 'L', 90:'XC',\n",
    "    100: 'C', 400:'CD', 500: 'D', 900:'CM',\n",
    "    1000:'M'\n",
    "    }\n",
    "    \n",
    "    highest_decimal = sorted(roman.keys(),reverse= True)\n",
    "    print(highest_decimal)\n",
    "    if number>=4000:\n",
    "        return False\n",
    "    r='' \n",
    "    \n",
    "    index = 0\n",
    "    while number:\n",
    "        div = number // highest_decimal[index]\n",
    "        number %= highest_decimal[index]\n",
    "        while div: \n",
    "            r+=roman[highest_decimal[index]]\n",
    "            div -= 1\n",
    "        index += 1\n",
    "    return r\n",
    "\n",
    "number=100\n",
    "print(question_fifth_solution(number))"
   ]
  },
  {
   "cell_type": "code",
   "execution_count": 18,
   "metadata": {},
   "outputs": [
    {
     "name": "stdout",
     "output_type": "stream",
     "text": [
      "[1000, 900, 500, 400, 100, 90, 50, 40, 10, 9, 5, 4, 1]\n"
     ]
    },
    {
     "ename": "TypeError",
     "evalue": "'>=' not supported between instances of 'str' and 'int'",
     "output_type": "error",
     "traceback": [
      "\u001b[1;31m---------------------------------------------------------------------------\u001b[0m",
      "\u001b[1;31mTypeError\u001b[0m                                 Traceback (most recent call last)",
      "\u001b[1;32m<ipython-input-18-fe2cdd8980a3>\u001b[0m in \u001b[0;36m<module>\u001b[1;34m\u001b[0m\n\u001b[0;32m      8\u001b[0m     \u001b[1;32mreturn\u001b[0m \u001b[0mline_count\u001b[0m\u001b[1;33m\u001b[0m\u001b[1;33m\u001b[0m\u001b[0m\n\u001b[0;32m      9\u001b[0m \u001b[1;33m\u001b[0m\u001b[0m\n\u001b[1;32m---> 10\u001b[1;33m \u001b[0mprint\u001b[0m\u001b[1;33m(\u001b[0m\u001b[1;34m\"No. of lines of Python Code :\"\u001b[0m\u001b[1;33m,\u001b[0m\u001b[0mquestion_fifth_solution\u001b[0m\u001b[1;33m(\u001b[0m\u001b[0minput_code\u001b[0m\u001b[1;33m)\u001b[0m\u001b[1;33m)\u001b[0m\u001b[1;33m\u001b[0m\u001b[1;33m\u001b[0m\u001b[0m\n\u001b[0m",
      "\u001b[1;32m<ipython-input-15-28959d62e275>\u001b[0m in \u001b[0;36mquestion_fifth_solution\u001b[1;34m(number)\u001b[0m\n\u001b[0;32m      8\u001b[0m     \u001b[0mhighest_decimal\u001b[0m \u001b[1;33m=\u001b[0m \u001b[0msorted\u001b[0m\u001b[1;33m(\u001b[0m\u001b[0mroman\u001b[0m\u001b[1;33m.\u001b[0m\u001b[0mkeys\u001b[0m\u001b[1;33m(\u001b[0m\u001b[1;33m)\u001b[0m\u001b[1;33m,\u001b[0m\u001b[0mreverse\u001b[0m\u001b[1;33m=\u001b[0m \u001b[1;32mTrue\u001b[0m\u001b[1;33m)\u001b[0m\u001b[1;33m\u001b[0m\u001b[1;33m\u001b[0m\u001b[0m\n\u001b[0;32m      9\u001b[0m     \u001b[0mprint\u001b[0m\u001b[1;33m(\u001b[0m\u001b[0mhighest_decimal\u001b[0m\u001b[1;33m)\u001b[0m\u001b[1;33m\u001b[0m\u001b[1;33m\u001b[0m\u001b[0m\n\u001b[1;32m---> 10\u001b[1;33m     \u001b[1;32mif\u001b[0m \u001b[0mnumber\u001b[0m\u001b[1;33m>=\u001b[0m\u001b[1;36m4000\u001b[0m\u001b[1;33m:\u001b[0m\u001b[1;33m\u001b[0m\u001b[1;33m\u001b[0m\u001b[0m\n\u001b[0m\u001b[0;32m     11\u001b[0m         \u001b[1;32mreturn\u001b[0m \u001b[1;32mFalse\u001b[0m\u001b[1;33m\u001b[0m\u001b[1;33m\u001b[0m\u001b[0m\n\u001b[0;32m     12\u001b[0m     \u001b[0mr\u001b[0m\u001b[1;33m=\u001b[0m\u001b[1;34m''\u001b[0m\u001b[1;33m\u001b[0m\u001b[1;33m\u001b[0m\u001b[0m\n",
      "\u001b[1;31mTypeError\u001b[0m: '>=' not supported between instances of 'str' and 'int'"
     ]
    }
   ],
   "source": [
    "def question_sixth_solution(code):\n",
    "    lines = code.split(\"\\n\")\n",
    "    not_comment = re.compile(\"^[^#]\")\n",
    "    line_count = 0\n",
    "    for line in lines:\n",
    "        if line != '' and re.search(not_comment,line.strip()):\n",
    "            line_count += 1\n",
    "    return line_count\n",
    "\n",
    "print(\"No. of lines of Python Code :\",question_fifth_solution(input_code))\n"
   ]
  },
  {
   "cell_type": "code",
   "execution_count": 20,
   "metadata": {},
   "outputs": [
    {
     "name": "stdout",
     "output_type": "stream",
     "text": [
      "No. of lines of Python Code : 12\n"
     ]
    }
   ],
   "source": [
    "def question_sixth_solution(code):\n",
    "    lines = code.split(\"\\n\")\n",
    "    not_comment = re.compile(\"^[^#]\")\n",
    "    line_count = 0\n",
    "    for line in lines:\n",
    "        if line != '' and re.search(not_comment,line.strip()):\n",
    "            line_count += 1\n",
    "    return line_count\n",
    "\n",
    "print(\"No. of lines of Python Code :\",question_sixth_solution(input_code))"
   ]
  }
 ],
 "metadata": {
  "kernelspec": {
   "display_name": "Python 3",
   "language": "python",
   "name": "python3"
  },
  "language_info": {
   "codemirror_mode": {
    "name": "ipython",
    "version": 3
   },
   "file_extension": ".py",
   "mimetype": "text/x-python",
   "name": "python",
   "nbconvert_exporter": "python",
   "pygments_lexer": "ipython3",
   "version": "3.7.6"
  }
 },
 "nbformat": 4,
 "nbformat_minor": 4
}
